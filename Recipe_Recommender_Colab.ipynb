{
  "nbformat": 4,
  "nbformat_minor": 0,
  "metadata": {
    "colab": {
      "provenance": [],
      "machine_shape": "hm",
      "gpuType": "L4"
    },
    "kernelspec": {
      "name": "python3",
      "display_name": "Python 3"
    },
    "language_info": {
      "name": "python"
    },
    "accelerator": "GPU"
  },
  "cells": [
    {
      "cell_type": "code",
      "source": [
        "# 📌 Install Dependencies\n",
        "!pip install diffusers transformers accelerate torch deep_translator faiss-cpu sentence-transformers --quiet"
      ],
      "metadata": {
        "id": "SFQh0cnTzLxa"
      },
      "execution_count": null,
      "outputs": []
    },
    {
      "cell_type": "markdown",
      "source": [
        "Import libraries and download data from Google Drive"
      ],
      "metadata": {
        "id": "DNejW0kezsnS"
      }
    },
    {
      "cell_type": "code",
      "source": [
        "# 📌 Import Libraries\n",
        "import torch\n",
        "import faiss\n",
        "import pandas as pd\n",
        "from deep_translator import GoogleTranslator\n",
        "from diffusers import StableDiffusionPipeline\n",
        "from sentence_transformers import SentenceTransformer\n",
        "import gdown\n",
        "import os\n",
        "\n",
        "# 📌 Define Paths for Download\n",
        "FAISS_INDEX_URL = \"https://drive.google.com/uc?id=1flF3u7iy4kzi58GBZnNEz5H11A9Rny4h\"\n",
        "PROCESSED_DATASET_URL = \"https://drive.google.com/uc?id=1eXA_cnZkuQCafWSBI1hh_naPdnXVDC0R\"\n",
        "\n",
        "FAISS_INDEX_PATH = \"/content/faiss_index.bin\"\n",
        "PROCESSED_DATASET_PATH = \"/content/processed_dataset.csv\"\n",
        "\n",
        "# 📌 Download Data from Google Drive\n",
        "if not os.path.exists(FAISS_INDEX_PATH):\n",
        "    print(\"📥 Downloading FAISS index...\")\n",
        "    gdown.download(FAISS_INDEX_URL, FAISS_INDEX_PATH, quiet=False)\n",
        "\n",
        "if not os.path.exists(PROCESSED_DATASET_PATH):\n",
        "    print(\"📥 Downloading processed dataset...\")\n",
        "    gdown.download(PROCESSED_DATASET_URL, PROCESSED_DATASET_PATH, quiet=False)"
      ],
      "metadata": {
        "id": "JqKHr97JzpI6"
      },
      "execution_count": null,
      "outputs": []
    },
    {
      "cell_type": "markdown",
      "source": [
        "Setting up"
      ],
      "metadata": {
        "id": "dc3PWHVkz22r"
      }
    },
    {
      "cell_type": "code",
      "source": [
        "# 📌 Load Data\n",
        "print(\"📂 Loading dataset...\")\n",
        "df = pd.read_csv(PROCESSED_DATASET_PATH)\n",
        "print(\"✅ Dataset loaded!\")\n",
        "\n",
        "# 📌 Load Model\n",
        "print(\"📥 Loading sentence transformer model...\")\n",
        "model = SentenceTransformer(\"jonny9f/food_embeddings\", device=\"cuda\" if torch.cuda.is_available() else \"cpu\")\n",
        "print(\"✅ Model loaded!\")\n",
        "\n",
        "# 📌 Load FAISS Index\n",
        "print(\"📥 Loading FAISS index...\")\n",
        "faiss_index = faiss.read_index(FAISS_INDEX_PATH)\n",
        "print(\"✅ FAISS index loaded!\")\n",
        "\n",
        "# 📌 Load Stable Diffusion for Image Generation\n",
        "print(\"📥 Loading Stable Diffusion...\")\n",
        "device = \"cuda\" if torch.cuda.is_available() else \"cpu\"\n",
        "pipe = StableDiffusionPipeline.from_pretrained(\"CompVis/stable-diffusion-v1-4\").to(device)\n",
        "print(\"✅ Stable Diffusion loaded!\")"
      ],
      "metadata": {
        "id": "_RaATGeD0BlM"
      },
      "execution_count": null,
      "outputs": []
    },
    {
      "cell_type": "markdown",
      "source": [
        "Defining Image Generation function"
      ],
      "metadata": {
        "id": "DCoP-WDl0KoO"
      }
    },
    {
      "cell_type": "code",
      "source": [
        "# 📌 Define Search and Image Generation Function\n",
        "def generate_recipe_image(recipe_name):\n",
        "    \"\"\" Generate a new image based on the recipe name using Stable Diffusion.\"\"\"\n",
        "    print(f\"🎨 Generating image for: {recipe_name}\")\n",
        "    prompt = f\"A delicious dish of {recipe_name}, beautifully plated, high-quality food photography.\"\n",
        "\n",
        "    with torch.autocast(device):\n",
        "        image = pipe(prompt).images[0]\n",
        "\n",
        "    return image"
      ],
      "metadata": {
        "id": "K9h6Evlr0UAa"
      },
      "execution_count": null,
      "outputs": []
    },
    {
      "cell_type": "markdown",
      "source": [
        "Run the application"
      ],
      "metadata": {
        "id": "SESgHwPk0fek"
      }
    },
    {
      "cell_type": "code",
      "execution_count": null,
      "metadata": {
        "id": "iRI34lzNzEfr"
      },
      "outputs": [],
      "source": [
        "from IPython.display import display\n",
        "# 📌 Run the Recipe Search\n",
        "lang_options = {\"en\": \"English\", \"pt\": \"Português\", \"es\": \"Español\"}\n",
        "print(\"\\n🌍 Choose display language: \")\n",
        "for code, name in lang_options.items():\n",
        "    print(f\"  [{code}] {name}\")\n",
        "\n",
        "selected_lang = input(\"\\nEnter the desired language code (en, pt, es): \").strip().lower()\n",
        "if selected_lang not in lang_options:\n",
        "    print(\"❌ Invalid language! Defaulting to English.\")\n",
        "    selected_lang = \"en\"\n",
        "print(f\"\\n✅ Language selected: {lang_options[selected_lang]}\")\n",
        "\n",
        "query_text = input(\"\\n🔍 Enter the dish name or description you want to search for: \").strip()\n",
        "query_embedding = model.encode([query_text], convert_to_numpy=True)\n",
        "\n",
        "k = 3  # Number of recommendations\n",
        "distances, indices = faiss_index.search(query_embedding, k)\n",
        "\n",
        "print(f\"\\n🔍 **Results for:** {query_text} ({lang_options[selected_lang]})\")\n",
        "\n",
        "for i, idx in enumerate(indices[0]):\n",
        "    recipe = df.iloc[idx]\n",
        "    title = recipe[\"title\"]\n",
        "    ingredients = recipe[\"ingredients\"]\n",
        "    directions = recipe[\"directions\"]\n",
        "\n",
        "    if selected_lang != \"en\":\n",
        "        title = GoogleTranslator(source=\"en\", target=selected_lang).translate(title)\n",
        "        ingredients = GoogleTranslator(source=\"en\", target=selected_lang).translate(ingredients)\n",
        "        directions = GoogleTranslator(source=\"en\", target=selected_lang).translate(directions)\n",
        "\n",
        "    print(f\"\\n🔹 **Recommendation {i+1}**\")\n",
        "    print(f\"🍽️ Recipe: {title}\")\n",
        "    print(f\"🛒 Ingredients: {ingredients}\")\n",
        "    print(f\"📖 Instructions: {directions}\")\n",
        "    print(f\"\\n⚡ **FAISS Distance:** {distances[0][i]}\")\n",
        "    print(\"-\" * 80)\n",
        "\n",
        "    image = generate_recipe_image(title)\n",
        "    display(image)\n"
      ]
    },
    {
      "cell_type": "code",
      "source": [],
      "metadata": {
        "id": "sRd65YB67PuT"
      },
      "execution_count": null,
      "outputs": []
    }
  ]
}